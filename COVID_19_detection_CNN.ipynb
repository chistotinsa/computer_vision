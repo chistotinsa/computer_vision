{
  "nbformat": 4,
  "nbformat_minor": 0,
  "metadata": {
    "colab": {
      "provenance": [],
      "authorship_tag": "ABX9TyOM2M2gj2bz4Vro68XA7t1j"
    },
    "kernelspec": {
      "name": "python3",
      "display_name": "Python 3"
    },
    "language_info": {
      "name": "python"
    }
  },
  "cells": [
    {
      "cell_type": "code",
      "source": [
        "import os\n",
        "import glob\n",
        "import shutil\n",
        "import itertools\n",
        "import numpy as np\n",
        "import matplotlib.pyplot as plt\n",
        "\n",
        "import torch\n",
        "import torch.nn as nn\n",
        "import torch.optim as optim\n",
        "from torchvision import datasets, models, transforms\n",
        "from torch.utils.data.sampler import SubsetRandomSampler"
      ],
      "metadata": {
        "id": "UUphm-LnWCsS"
      },
      "execution_count": null,
      "outputs": []
    },
    {
      "cell_type": "code",
      "source": [
        "\n",
        "TRAIN_DATA_PATH = \"/content/train\"\n",
        "TEST_DATA_PATH = \"/content/test\"\n",
        "\n",
        "normalizer = transforms.Normalize(mean=[0.5, 0.5, 0.5], std=[0.25, 0.25, 0.25])\n",
        "\n",
        "data_transforms = {\n",
        "    'train': transforms.Compose([\n",
        "        transforms.Resize((244, 244)),\n",
        "        transforms.RandomHorizontalFlip(),\n",
        "        transforms.RandomVerticalFlip(),\n",
        "        transforms.ColorJitter(),\n",
        "        transforms.ToTensor(),\n",
        "        normalizer\n",
        "    ]),\n",
        "    \n",
        "    'test': transforms.Compose([\n",
        "        transforms.Resize((244, 244)),\n",
        "        transforms.ToTensor(),\n",
        "        normalizer\n",
        "    ])\n",
        "}\n",
        "\n",
        "train_data = datasets.ImageFolder(root=TRAIN_DATA_PATH, transform=data_transforms['train'])\n",
        "\n",
        "test_data = datasets.ImageFolder(root=TEST_DATA_PATH, transform=data_transforms['test'])"
      ],
      "metadata": {
        "id": "of_-eeSZXdiq"
      },
      "execution_count": null,
      "outputs": []
    },
    {
      "cell_type": "code",
      "source": [
        "batch_size = 20\n",
        "\n",
        "data_size = len(train_data)\n",
        "validation_split = .2\n",
        "split = int(np.floor(validation_split * data_size))\n",
        "indices = list(range(data_size))\n",
        "np.random.shuffle(indices)\n",
        "\n",
        "train_indices, val_indices = indices[split:], indices[:split]\n",
        "\n",
        "train_sampler = SubsetRandomSampler(train_indices)\n",
        "val_sampler = SubsetRandomSampler(val_indices)\n",
        "\n",
        "train_loader = torch.utils.data.DataLoader(train_data, batch_size=batch_size, \n",
        "                                           sampler=train_sampler)\n",
        "val_loader = torch.utils.data.DataLoader(train_data, batch_size=batch_size,\n",
        "                                         sampler=val_sampler)"
      ],
      "metadata": {
        "id": "2h7l4-u_3ZOk"
      },
      "execution_count": null,
      "outputs": []
    },
    {
      "cell_type": "code",
      "source": [
        "next(iter(train_loader))[1]"
      ],
      "metadata": {
        "id": "uoCze809C8g1"
      },
      "execution_count": null,
      "outputs": []
    },
    {
      "cell_type": "code",
      "source": [
        "class Flattener(nn.Module):\n",
        "    def forward(self, x):\n",
        "        batch_size, *_ = x.shape\n",
        "        return x.view(batch_size, -1)"
      ],
      "metadata": {
        "id": "WSzZVs1SXdrB"
      },
      "execution_count": null,
      "outputs": []
    },
    {
      "cell_type": "code",
      "source": [
        "import tqdm\n",
        "\n",
        "num_epochs = 5\n",
        "\n",
        "def train_model(model, train_loader, val_loader, loss, optimizer, num_epochs):    \n",
        "    loss_history = []\n",
        "    train_history = []\n",
        "    val_history = []\n",
        "    for epoch in tqdm.trange(1, num_epochs):\n",
        "        model.train() # Enter train mode\n",
        "        \n",
        "        loss_accum = 0\n",
        "        correct_samples = 0\n",
        "        total_samples = 0\n",
        "        for i_step, (x, y) in enumerate(train_loader):\n",
        "          \n",
        "            x_gpu = x.to(device)\n",
        "            y_gpu = y.to(device)\n",
        "            prediction = model(x_gpu)    \n",
        "            loss_value = loss(prediction, y_gpu)\n",
        "            optimizer.zero_grad()\n",
        "            loss_value.backward()\n",
        "            optimizer.step()\n",
        "            \n",
        "            _, indices = torch.max(prediction, 1)\n",
        "            correct_samples += torch.sum(indices == y_gpu)\n",
        "            total_samples += y.shape[0]\n",
        "            \n",
        "            loss_accum += loss_value\n",
        "\n",
        "        ave_loss = loss_accum / i_step\n",
        "        train_accuracy = float(correct_samples) / total_samples\n",
        "        val_accuracy = compute_accuracy(model, val_loader)\n",
        "        \n",
        "        loss_history.append(float(ave_loss))\n",
        "        train_history.append(train_accuracy)\n",
        "        val_history.append(val_accuracy)\n",
        "        \n",
        "        print(\"Average loss: %f, Train accuracy: %f, Val accuracy: %f\" % (ave_loss, train_accuracy, val_accuracy))\n",
        "        \n",
        "    return loss_history, train_history, val_history\n",
        "        \n",
        "def compute_accuracy(model, loader):\n",
        "    \"\"\"\n",
        "    Computes accuracy on the dataset wrapped in a loader\n",
        "    Returns: accuracy as a float value between 0 and 1\n",
        "    \"\"\"\n",
        "\n",
        "    model.eval() # Evaluation mode\n",
        "    \n",
        "    for _, (x, y) in enumerate(loader):\n",
        "      x, y = x.to(device), y.to(device)\n",
        "      prediction = model(x)\n",
        "      loss_val = loss(prediction, y)\n",
        "      \n",
        "      accuracy = (torch.argmax(prediction, dim=1) == y).sum().item() / prediction.shape[0]\n",
        "    \n",
        "    return accuracy"
      ],
      "metadata": {
        "id": "F5dq5YTcXds8"
      },
      "execution_count": null,
      "outputs": []
    },
    {
      "cell_type": "code",
      "source": [
        "device = 'cuda' if torch.cuda.is_available() else 'cpu'\n",
        "\n",
        "model = nn.Sequential(nn.Conv2d(3, 6, kernel_size=5, stride=1, padding=0),\n",
        "                            nn.BatchNorm2d(6),\n",
        "                            nn.ReLU(),\n",
        "                            nn.MaxPool2d(kernel_size = 2, stride = 2),\n",
        "                            nn.Conv2d(6, 16, kernel_size=5, stride=1, padding=0),\n",
        "                            nn.BatchNorm2d(16),\n",
        "                            nn.ReLU(),\n",
        "                            nn.MaxPool2d(kernel_size = 2, stride = 2),\n",
        "                            Flattener(),\n",
        "                            nn.Linear(53824, 300),\n",
        "                            nn.BatchNorm1d(300),\n",
        "                            nn.ReLU(),\n",
        "                            nn.Linear(300, 120),\n",
        "                            nn.BatchNorm1d(120),\n",
        "                            nn.ReLU(),\n",
        "                            nn.Linear(120, 84),\n",
        "                            nn.BatchNorm1d(84),\n",
        "                            nn.ReLU(),\n",
        "                            nn.Linear(84, 2),\n",
        "                            nn.LogSoftmax(dim=-1))\n",
        "\n",
        "\n",
        "\n",
        "model.type(torch.cuda.FloatTensor)\n",
        "model.to(device)\n",
        "\n",
        "loss = nn.CrossEntropyLoss().type(torch.cuda.FloatTensor)\n",
        "optimizer = optim.SGD(model.parameters(), lr=0.1, weight_decay=0.0001)"
      ],
      "metadata": {
        "id": "l29ibm5xXdva"
      },
      "execution_count": null,
      "outputs": []
    },
    {
      "cell_type": "code",
      "source": [
        "loss = nn.CrossEntropyLoss().type(torch.cuda.FloatTensor)\n",
        "optimizer = optim.SGD(model.parameters(), lr=0.01, weight_decay=0.0001)\n",
        "\n",
        "loss_history, train_history, val_history = train_model(model, train_loader, val_loader, loss, optimizer, num_epochs)"
      ],
      "metadata": {
        "colab": {
          "base_uri": "https://localhost:8080/"
        },
        "id": "MNQY0zo_vZZy",
        "outputId": "22a729ef-fa51-4155-dd5f-e2eb3eeaa127"
      },
      "execution_count": null,
      "outputs": [
        {
          "output_type": "stream",
          "name": "stderr",
          "text": [
            " 25%|██▌       | 1/4 [00:47<02:23, 47.95s/it]"
          ]
        },
        {
          "output_type": "stream",
          "name": "stdout",
          "text": [
            "Average loss: 0.371857, Train accuracy: 0.829900, Val accuracy: 0.888889\n"
          ]
        },
        {
          "output_type": "stream",
          "name": "stderr",
          "text": [
            "\r 50%|█████     | 2/4 [01:35<01:34, 47.45s/it]"
          ]
        },
        {
          "output_type": "stream",
          "name": "stdout",
          "text": [
            "Average loss: 0.278778, Train accuracy: 0.880263, Val accuracy: 0.777778\n"
          ]
        },
        {
          "output_type": "stream",
          "name": "stderr",
          "text": [
            "\r 75%|███████▌  | 3/4 [02:24<00:48, 48.43s/it]"
          ]
        },
        {
          "output_type": "stream",
          "name": "stdout",
          "text": [
            "Average loss: 0.228468, Train accuracy: 0.905727, Val accuracy: 0.888889\n"
          ]
        },
        {
          "output_type": "stream",
          "name": "stderr",
          "text": [
            "100%|██████████| 4/4 [03:11<00:00, 47.76s/it]"
          ]
        },
        {
          "output_type": "stream",
          "name": "stdout",
          "text": [
            "Average loss: 0.194483, Train accuracy: 0.922250, Val accuracy: 1.000000\n"
          ]
        },
        {
          "output_type": "stream",
          "name": "stderr",
          "text": [
            "\n"
          ]
        }
      ]
    },
    {
      "cell_type": "code",
      "source": [
        "test_loader = torch.utils.data.DataLoader(test_data, batch_size=20)\n",
        "final_test_accuracy = compute_accuracy(model, test_loader)\n",
        "print(\"Final test accuracy -\", final_test_accuracy)"
      ],
      "metadata": {
        "colab": {
          "base_uri": "https://localhost:8080/"
        },
        "id": "VeCupYBW9ssD",
        "outputId": "cf257560-493b-475a-ac70-e1c94d993d53"
      },
      "execution_count": null,
      "outputs": [
        {
          "output_type": "stream",
          "name": "stdout",
          "text": [
            "Final test accuracy - 1.0\n"
          ]
        }
      ]
    },
    {
      "cell_type": "code",
      "source": [
        "torch.save({\n",
        "        'epoch': num_epochs,\n",
        "        'model_state_dict': model.state_dict(),\n",
        "        'optimizer_state_dict': optimizer.state_dict(),\n",
        "        'loss': loss}, '/content/goto_model.model.pt')\n",
        "    "
      ],
      "metadata": {
        "id": "cAvaT_4NJTTj"
      },
      "execution_count": null,
      "outputs": []
    }
  ]
}